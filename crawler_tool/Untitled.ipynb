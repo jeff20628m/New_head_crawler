{
 "cells": [
  {
   "cell_type": "code",
   "execution_count": 1,
   "metadata": {},
   "outputs": [],
   "source": [
    "import numpy as np\n",
    "import pandas as pd\n",
    "import time\n",
    "from datetime import datetime\n",
    "import pickle\n",
    "from pathlib import Path, PureWindowsPath\n"
   ]
  },
  {
   "cell_type": "code",
   "execution_count": 2,
   "metadata": {},
   "outputs": [],
   "source": [
    "with open('C:/Users/USER/github/bigdata_marketing/crawler/newhead_news_finance.pkl', 'rb') as file:\n",
    "    dict01 =pickle.load(file)"
   ]
  },
  {
   "cell_type": "code",
   "execution_count": 4,
   "metadata": {},
   "outputs": [
    {
     "data": {
      "text/plain": [
       "{'date': '2012-12-21',\n",
       " 'title': '11月外銷訂單創新高  陳冲：新興市場所賜',\n",
       " 'link': 'https://newtalk.tw/news/view/2012-12-21/32173',\n",
       " 'content': \"台灣11月外銷訂單金額突破407億3千萬美元，創下史上單月最高紀錄，也讓今年全年的外銷訂單由負轉正，成長1%。行政院長陳冲今(21)日表示，行政院去年就注意到歐美及中國主要傳統外銷市場萎縮的問題，因此積極開拓新興市場，因此，今年的外銷市場比例也有相當大的不同。監察委員今天在洪德旋的帶領下，一早即到行政院巡察，行政院長陳冲率全體閣員進行業務報告，說明政府施政績效。陳冲說，今年，台灣整個出口市場的結構、比例、數字都不一樣，訂單創新高，順便可以帶動整個出口訂單由負轉正，這是長期努力的結果。聯合報21日報導指出，展望明年，經濟部統計處統計長林麗貞強調，美國財政懸崖及歐債問題，各國都已積極尋求解決方案，有助恢復全球貿易動能，外銷訂單可望趨穩，「出口不會再繼續衰退」。不過，陳冲今天在致詞時，則自嘲政院的「經濟動能推升方案」沒有受到大家的重視，反而是前發言人胡幼偉構思的廣告，引起大家的注意，達到了部份效果。陳冲同時指出，政院已通過「外國人投資條例」及「華僑回國投資條例」修正，將僑外投資由「事前核准」改為「原則事後申報，例外事前核准」，將有助於放大僑外商來台投資的能量。而在實現社會公益方面，陳冲也表示，2013年度中央政府總預算在社會福利方面的經費達新台幣4,300億，是有史以來最高。台灣也是亞洲第1個實施「幼托整合」的國家，並開始推動「長期照護服務法」，政府已在國家財政所能負擔的範圍內，盡量強化社會福利。至於台積電董事長張忠謀這兩天發表有關擔心國際智慧財產地雷會阻礙台灣產業創新的談話，陳沖回應，政府已將強化智慧財產權佈局項目納入「經濟動能推升方案」中，成為加強推動的項目之一。 \\r          (function(d,a){d[a]=d[a]||function(){(d[a].q=d[a].q||[]).push(arguments)};}(window,'dable'));\\r          dable('renderWidget', 'dablewidget_6Xg8WqoN');\\r          \"}"
      ]
     },
     "execution_count": 4,
     "metadata": {},
     "output_type": "execute_result"
    }
   ],
   "source": [
    "dict01[-1]"
   ]
  },
  {
   "cell_type": "code",
   "execution_count": 5,
   "metadata": {},
   "outputs": [],
   "source": [
    "import jieba\n",
    "import operator\n",
    "import statistics\n",
    "import matplotlib.pyplot as plt\n",
    "import matplotlib.font_manager as font_manager\n",
    "from datetime import datetime\n",
    "from collections import Counter\n",
    "from wordcloud import WordCloud, STOPWORDS, ImageColorGenerator\n",
    "from PIL import Image\n",
    "font_path = 'msjh.ttc'\n",
    "font = font_manager.FontProperties(fname='msjh.ttc',\n",
    "                                   weight='bold',\n",
    "                                   style='normal', size=16)"
   ]
  },
  {
   "cell_type": "code",
   "execution_count": null,
   "metadata": {},
   "outputs": [],
   "source": []
  },
  {
   "cell_type": "code",
   "execution_count": null,
   "metadata": {},
   "outputs": [],
   "source": []
  }
 ],
 "metadata": {
  "kernelspec": {
   "display_name": "Python 3",
   "language": "python",
   "name": "python3"
  },
  "language_info": {
   "codemirror_mode": {
    "name": "ipython",
    "version": 3
   },
   "file_extension": ".py",
   "mimetype": "text/x-python",
   "name": "python",
   "nbconvert_exporter": "python",
   "pygments_lexer": "ipython3",
   "version": "3.7.3"
  }
 },
 "nbformat": 4,
 "nbformat_minor": 2
}
